{
 "cells": [
  {
   "cell_type": "code",
   "execution_count": 14,
   "metadata": {},
   "outputs": [],
   "source": [
    "#importing libraries\n",
    "import pandas as pd\n",
    "from molmass import Formula\n",
    "import numpy as np\n",
    "import matplotlib.pyplot as plt"
   ]
  },
  {
   "cell_type": "code",
   "execution_count": 16,
   "metadata": {},
   "outputs": [
    {
     "name": "stdout",
     "output_type": "stream",
     "text": [
      "Import the MS spectra file to work with (comma separated values): test.txt\n"
     ]
    }
   ],
   "source": [
    "#uploading the MS spectra file (txt)\n",
    "file = input('Import the MS spectra file to work with (comma separated values): ')\n",
    "df = pd.read_csv(file, sep='\\t', engine='python')"
   ]
  },
  {
   "cell_type": "code",
   "execution_count": 25,
   "metadata": {},
   "outputs": [
    {
     "name": "stdout",
     "output_type": "stream",
     "text": [
      "Write the formula bruta of the molecule you are looking for: C9H14N4O3\n"
     ]
    }
   ],
   "source": [
    "#asking for the formula bruta of the molecule to look for\n",
    "f = input ('Write the formula bruta of the molecule you are looking for: ')\n",
    "form = Formula(f)\n",
    "MW = form.isotope.mass"
   ]
  },
  {
   "cell_type": "code",
   "execution_count": 26,
   "metadata": {},
   "outputs": [
    {
     "name": "stdout",
     "output_type": "stream",
     "text": [
      "Indicate if the analysis was carried out in positive or negative ion mode (p/n): p\n"
     ]
    }
   ],
   "source": [
    "#Indicate if the data are acquired in positive or negative ion mode\n",
    "h_weigh=1.007276\n",
    "word = ''\n",
    "while word.lower() != 'out':\n",
    "    pos_neg = input ('Indicate if the analysis was carried out in positive or negative ion mode (p/n): ')\n",
    "    if pos_neg == 'p':\n",
    "        word = 'out'\n",
    "    elif pos_neg == 'n':\n",
    "        word = 'out'\n",
    "    else:\n",
    "        pass\n",
    "    \n",
    "if pos_neg.startswith('p'):\n",
    "    molecular_ion = (round((MW + h_weigh),2))\n",
    "    pos_neg2 = 'positive'\n",
    "else:\n",
    "    molecular_ion = (round((MW - h_weigh),2))\n",
    "    pos_neg2 = 'negative'"
   ]
  },
  {
   "cell_type": "code",
   "execution_count": 27,
   "metadata": {},
   "outputs": [
    {
     "name": "stdout",
     "output_type": "stream",
     "text": [
      "Your have insert the formula: C9H14N4O3 \n",
      "with the monoisotopic mass of: 226.11 \n",
      "and a molecular ion of:  227.11 \n",
      "in positive ion mode\n"
     ]
    }
   ],
   "source": [
    "print ('Your have insert the formula:',f,'\\nwith the monoisotopic mass of:',str(round(MW,2)),'\\nand a molecular ion of: ',str(molecular_ion),'\\nin',pos_neg2,'ion mode')"
   ]
  },
  {
   "cell_type": "code",
   "execution_count": 28,
   "metadata": {},
   "outputs": [],
   "source": [
    "#define list of possible molecular ion [e.g. Na+ - K+ - 2M+H+ -etc... ]\n",
    "if pos_neg == 'p':\n",
    "    ammonium = round((molecular_ion + 17.0),2) \n",
    "    sodium = round((molecular_ion + 22.0),2)\n",
    "    potassium = round((molecular_ion + 38.1),2)\n",
    "    bi_charge = round(((molecular_ion + h_weigh)/2),2)\n",
    "    bi_molecule = round((molecular_ion + (molecular_ion-1)),2)\n",
    "    search = [molecular_ion,ammonium,sodium,potassium,bi_charge,bi_molecule]\n",
    "elif pos_neg == 'n':\n",
    "    water = round((molecular_ion + 18),2)\n",
    "    formate = round((molecular_ion + 46 ),2)\n",
    "    bi_charge = round(((molecular_ion - h_weigh)/2),2)\n",
    "    bi_molecule = round((molecular_ion + (molecular_ion+h_weigh)),2)\n",
    "    search_neg = [molecular_ion,water, formate, bi_charge, bi_molecule]\n",
    "else:\n",
    "    pass"
   ]
  },
  {
   "cell_type": "code",
   "execution_count": 29,
   "metadata": {},
   "outputs": [],
   "source": [
    "#identify the value with the maximum intensity\n",
    "def maximum(intensity):\n",
    "    max_value = max(intensity)\n",
    "    ind = ab[max_value]\n",
    "    ident_value = (df['X'][ind])\n",
    "    accuracy = round((y-ident_value),2)\n",
    "    return ident_value, max_value, accuracy"
   ]
  },
  {
   "cell_type": "code",
   "execution_count": 31,
   "metadata": {},
   "outputs": [
    {
     "name": "stdout",
     "output_type": "stream",
     "text": [
      "With wich accuracy you want to run the analysis (Da) (e.g. 0.5): 0.5\n",
      "0.5\n",
      "do you confirm your input (y/n)y\n"
     ]
    }
   ],
   "source": [
    "# define the accuracy of the search\n",
    "decision = 'n'\n",
    "while decision.lower() != 'y':\n",
    "    if decision == 'yes':\n",
    "        break\n",
    "    else:\n",
    "        lowe_res = input('With wich accuracy you want to run the analysis (Da) (e.g. 0.5): ')\n",
    "        print (lowe_res)\n",
    "        decision = input ('do you confirm your input (y/n)')"
   ]
  },
  {
   "cell_type": "code",
   "execution_count": 32,
   "metadata": {},
   "outputs": [],
   "source": [
    "#searching for the values, and put in a dictionary the detected peaks and the accuracy from the theoretical mass\n",
    "results = dict()\n",
    "for y in search:\n",
    "    lower = y - float(lowe_res)\n",
    "    higher = y + float(lowe_res)\n",
    "    values = []\n",
    "    for x in np.arange(lower,higher,0.01):\n",
    "        for z in df['X']:\n",
    "            if str(round(z,2)) == str(round(x,2)):\n",
    "                values.append(z)\n",
    "            else:\n",
    "                pass\n",
    "    if values == []:\n",
    "        results[y] = ['n/a','n/a','n/a']\n",
    "    else:\n",
    "        index = []\n",
    "        for a in values:\n",
    "            index.append(int((df[df['X']== a].index.values)))\n",
    "        intensity = []\n",
    "        ab = dict()\n",
    "        for b in index:\n",
    "            ab[df['Y'][b]] = b\n",
    "            intensity.append(df['Y'][b])\n",
    "        results[y] = maximum(intensity)"
   ]
  },
  {
   "cell_type": "code",
   "execution_count": 33,
   "metadata": {},
   "outputs": [
    {
     "data": {
      "text/html": [
       "<div>\n",
       "<style scoped>\n",
       "    .dataframe tbody tr th:only-of-type {\n",
       "        vertical-align: middle;\n",
       "    }\n",
       "\n",
       "    .dataframe tbody tr th {\n",
       "        vertical-align: top;\n",
       "    }\n",
       "\n",
       "    .dataframe thead th {\n",
       "        text-align: right;\n",
       "    }\n",
       "</style>\n",
       "<table border=\"1\" class=\"dataframe\">\n",
       "  <thead>\n",
       "    <tr style=\"text-align: right;\">\n",
       "      <th></th>\n",
       "      <th>Search</th>\n",
       "      <th>Values</th>\n",
       "      <th>Peak</th>\n",
       "      <th>Intensity</th>\n",
       "      <th>Accuracy(Da)</th>\n",
       "    </tr>\n",
       "    <tr>\n",
       "      <th>Index</th>\n",
       "      <th></th>\n",
       "      <th></th>\n",
       "      <th></th>\n",
       "      <th></th>\n",
       "      <th></th>\n",
       "    </tr>\n",
       "  </thead>\n",
       "  <tbody>\n",
       "    <tr>\n",
       "      <th>0</th>\n",
       "      <td>[M+H]+</td>\n",
       "      <td>227.11</td>\n",
       "      <td>227.3</td>\n",
       "      <td>129681608.0</td>\n",
       "      <td>-0.19</td>\n",
       "    </tr>\n",
       "    <tr>\n",
       "      <th>1</th>\n",
       "      <td>[M+NH3]+</td>\n",
       "      <td>244.11</td>\n",
       "      <td>244.2</td>\n",
       "      <td>702117.0</td>\n",
       "      <td>-0.09</td>\n",
       "    </tr>\n",
       "    <tr>\n",
       "      <th>2</th>\n",
       "      <td>[M+Na]+</td>\n",
       "      <td>249.11</td>\n",
       "      <td>249.2</td>\n",
       "      <td>840140.0</td>\n",
       "      <td>-0.09</td>\n",
       "    </tr>\n",
       "    <tr>\n",
       "      <th>3</th>\n",
       "      <td>[M+K]+</td>\n",
       "      <td>265.21</td>\n",
       "      <td>265.5</td>\n",
       "      <td>582097.0</td>\n",
       "      <td>-0.29</td>\n",
       "    </tr>\n",
       "    <tr>\n",
       "      <th>4</th>\n",
       "      <td>[M+2H]2+</td>\n",
       "      <td>114.06</td>\n",
       "      <td>114.1</td>\n",
       "      <td>105281544.0</td>\n",
       "      <td>-0.04</td>\n",
       "    </tr>\n",
       "    <tr>\n",
       "      <th>5</th>\n",
       "      <td>[2M+H]+</td>\n",
       "      <td>453.22</td>\n",
       "      <td>453.3</td>\n",
       "      <td>16394732.0</td>\n",
       "      <td>-0.08</td>\n",
       "    </tr>\n",
       "  </tbody>\n",
       "</table>\n",
       "</div>"
      ],
      "text/plain": [
       "         Search  Values   Peak    Intensity  Accuracy(Da)\n",
       "Index                                                    \n",
       "0        [M+H]+  227.11  227.3  129681608.0         -0.19\n",
       "1      [M+NH3]+  244.11  244.2     702117.0         -0.09\n",
       "2       [M+Na]+  249.11  249.2     840140.0         -0.09\n",
       "3        [M+K]+  265.21  265.5     582097.0         -0.29\n",
       "4      [M+2H]2+  114.06  114.1  105281544.0         -0.04\n",
       "5       [2M+H]+  453.22  453.3   16394732.0         -0.08"
      ]
     },
     "execution_count": 33,
     "metadata": {},
     "output_type": "execute_result"
    }
   ],
   "source": [
    "if pos_neg == 'p':\n",
    "    peaks = pd.DataFrame.from_dict(results, orient = 'index', columns = ['Peak', 'Intensity','Accuracy(Da)'])\n",
    "    peaks['Values'] = search\n",
    "    peaks['Search'] = ['[M+H]+','[M+NH3]+','[M+Na]+','[M+K]+','[M+2H]2+','[2M+H]+']\n",
    "    peaks['Index'] = [0,1,2,3,4,5]\n",
    "    peaks = peaks.set_index('Index')\n",
    "    cols = list(peaks)\n",
    "    cols.insert(0,cols.pop(cols.index('Search')))\n",
    "    cols.insert(1,cols.pop(cols.index('Values')))\n",
    "    peaks = peaks.loc[:,cols]\n",
    "else:\n",
    "    peaks = pd.DataFrame.from_dict(results, orient = 'index', columns = ['Peak', 'Intensity','Accuracy(Da)'])\n",
    "    peaks['Values'] = search_neg\n",
    "    peaks['Search'] = ['[M-H]-','[M+OH]-','[M+HCOO]-','[M-2H]2-','[2M-H]-']\n",
    "    peaks['Index'] = [0,1,2,3,4,]\n",
    "    peaks = peaks.set_index('Index')\n",
    "    cols = list(peaks)\n",
    "    cols.insert(0,cols.pop(cols.index('Search')))\n",
    "    cols.insert(1,cols.pop(cols.index('Values')))\n",
    "    peaks = peaks.loc[:,cols]\n",
    "\n",
    "peaks"
   ]
  },
  {
   "cell_type": "code",
   "execution_count": 34,
   "metadata": {},
   "outputs": [
    {
     "data": {
      "image/png": "[encoded data removed]",
      "text/plain": [
       "<Figure size 1008x504 with 1 Axes>"
      ]
     },
     "metadata": {
      "needs_background": "light"
     },
     "output_type": "display_data"
    }
   ],
   "source": [
    "x = df['X']\n",
    "y = df['Y']\n",
    "fig,ax= plt.subplots(figsize=(14, 7))\n",
    "plt.plot(x,y)\n",
    "n=0\n",
    "nn=0.1\n",
    "for signal in range(5):\n",
    "    if peaks['Peak'][signal] == 'n/a':\n",
    "        n+=1\n",
    "    else:\n",
    "        ax.annotate((peaks['Peak'][n]),\n",
    "                    xy=((peaks['Peak'][n]), (peaks['Intensity'][n])), xycoords='data', xytext=(-5, 100), textcoords='offset points',rotation = 60,\n",
    "            arrowprops=dict(arrowstyle=\"->\"))\n",
    "        n+=1\n",
    "        nn+=0.1\n",
    "plt.show()\n",
    "plt.close()"
   ]
  },
  {
   "cell_type": "code",
   "execution_count": null,
   "metadata": {},
   "outputs": [],
   "source": []
  }
 ],
 "metadata": {
  "kernelspec": {
   "display_name": "Python 3",
   "language": "python",
   "name": "python3"
  },
  "language_info": {
   "codemirror_mode": {
    "name": "ipython",
    "version": 3
   },
   "file_extension": ".py",
   "mimetype": "text/x-python",
   "name": "python",
   "nbconvert_exporter": "python",
   "pygments_lexer": "ipython3",
   "version": "3.7.3"
  }
 },
 "nbformat": 4,
 "nbformat_minor": 2
}
